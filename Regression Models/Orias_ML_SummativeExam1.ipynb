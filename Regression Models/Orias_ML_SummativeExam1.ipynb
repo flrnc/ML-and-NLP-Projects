{
 "cells": [
  {
   "cell_type": "code",
   "execution_count": 1,
   "id": "639f7eea",
   "metadata": {},
   "outputs": [],
   "source": [
    "%matplotlib inline\n",
    "import pandas as pd\n",
    "import seaborn as sns\n",
    "df = pd.read_csv(\"FuelEfficiency.csv\")"
   ]
  },
  {
   "cell_type": "code",
   "execution_count": 2,
   "id": "42f7143a",
   "metadata": {},
   "outputs": [
    {
     "data": {
      "text/html": [
       "<div>\n",
       "<style scoped>\n",
       "    .dataframe tbody tr th:only-of-type {\n",
       "        vertical-align: middle;\n",
       "    }\n",
       "\n",
       "    .dataframe tbody tr th {\n",
       "        vertical-align: top;\n",
       "    }\n",
       "\n",
       "    .dataframe thead th {\n",
       "        text-align: right;\n",
       "    }\n",
       "</style>\n",
       "<table border=\"1\" class=\"dataframe\">\n",
       "  <thead>\n",
       "    <tr style=\"text-align: right;\">\n",
       "      <th></th>\n",
       "      <th>Mfr Name</th>\n",
       "      <th>Carline</th>\n",
       "      <th>Eng Displ</th>\n",
       "      <th>Cylinders</th>\n",
       "      <th>Transmission</th>\n",
       "      <th>CityMPG</th>\n",
       "      <th>HwyMPG</th>\n",
       "      <th>CombMPG</th>\n",
       "      <th># Gears</th>\n",
       "    </tr>\n",
       "  </thead>\n",
       "  <tbody>\n",
       "    <tr>\n",
       "      <th>0</th>\n",
       "      <td>aston martin</td>\n",
       "      <td>Vantage V8</td>\n",
       "      <td>4.0</td>\n",
       "      <td>8</td>\n",
       "      <td>Auto(S8)</td>\n",
       "      <td>18</td>\n",
       "      <td>25</td>\n",
       "      <td>21</td>\n",
       "      <td>8</td>\n",
       "    </tr>\n",
       "    <tr>\n",
       "      <th>1</th>\n",
       "      <td>Volkswagen Group of</td>\n",
       "      <td>Chiron</td>\n",
       "      <td>8.0</td>\n",
       "      <td>16</td>\n",
       "      <td>Auto(AM-S7)</td>\n",
       "      <td>9</td>\n",
       "      <td>14</td>\n",
       "      <td>11</td>\n",
       "      <td>7</td>\n",
       "    </tr>\n",
       "    <tr>\n",
       "      <th>2</th>\n",
       "      <td>General Motors</td>\n",
       "      <td>CORVETTE</td>\n",
       "      <td>6.2</td>\n",
       "      <td>8</td>\n",
       "      <td>Auto(S8)</td>\n",
       "      <td>12</td>\n",
       "      <td>20</td>\n",
       "      <td>15</td>\n",
       "      <td>8</td>\n",
       "    </tr>\n",
       "    <tr>\n",
       "      <th>3</th>\n",
       "      <td>General Motors</td>\n",
       "      <td>CORVETTE</td>\n",
       "      <td>6.2</td>\n",
       "      <td>8</td>\n",
       "      <td>Auto(S8)</td>\n",
       "      <td>15</td>\n",
       "      <td>25</td>\n",
       "      <td>18</td>\n",
       "      <td>8</td>\n",
       "    </tr>\n",
       "    <tr>\n",
       "      <th>4</th>\n",
       "      <td>General Motors</td>\n",
       "      <td>CORVETTE</td>\n",
       "      <td>6.2</td>\n",
       "      <td>8</td>\n",
       "      <td>Auto(S8)</td>\n",
       "      <td>14</td>\n",
       "      <td>23</td>\n",
       "      <td>17</td>\n",
       "      <td>8</td>\n",
       "    </tr>\n",
       "  </tbody>\n",
       "</table>\n",
       "</div>"
      ],
      "text/plain": [
       "              Mfr Name     Carline  Eng Displ  Cylinders Transmission  \\\n",
       "0         aston martin  Vantage V8        4.0          8     Auto(S8)   \n",
       "1  Volkswagen Group of      Chiron        8.0         16  Auto(AM-S7)   \n",
       "2       General Motors    CORVETTE        6.2          8     Auto(S8)   \n",
       "3       General Motors    CORVETTE        6.2          8     Auto(S8)   \n",
       "4       General Motors    CORVETTE        6.2          8     Auto(S8)   \n",
       "\n",
       "   CityMPG  HwyMPG  CombMPG  # Gears  \n",
       "0       18      25       21        8  \n",
       "1        9      14       11        7  \n",
       "2       12      20       15        8  \n",
       "3       15      25       18        8  \n",
       "4       14      23       17        8  "
      ]
     },
     "execution_count": 2,
     "metadata": {},
     "output_type": "execute_result"
    }
   ],
   "source": [
    "df.head()"
   ]
  },
  {
   "cell_type": "code",
   "execution_count": 3,
   "id": "bd354f29",
   "metadata": {},
   "outputs": [],
   "source": [
    "num_gears = df['# Gears'].value_counts()\n",
    "mpg_rating = df['CombMPG'].value_counts()"
   ]
  },
  {
   "cell_type": "code",
   "execution_count": 4,
   "id": "f612ba73",
   "metadata": {},
   "outputs": [
    {
     "data": {
      "text/html": [
       "<div>\n",
       "<style scoped>\n",
       "    .dataframe tbody tr th:only-of-type {\n",
       "        vertical-align: middle;\n",
       "    }\n",
       "\n",
       "    .dataframe tbody tr th {\n",
       "        vertical-align: top;\n",
       "    }\n",
       "\n",
       "    .dataframe thead th {\n",
       "        text-align: right;\n",
       "    }\n",
       "</style>\n",
       "<table border=\"1\" class=\"dataframe\">\n",
       "  <thead>\n",
       "    <tr style=\"text-align: right;\">\n",
       "      <th></th>\n",
       "      <th># Gears</th>\n",
       "      <th>CityMPG</th>\n",
       "      <th>HwyMPG</th>\n",
       "      <th>CombMPG</th>\n",
       "    </tr>\n",
       "  </thead>\n",
       "  <tbody>\n",
       "    <tr>\n",
       "      <th>0</th>\n",
       "      <td>8</td>\n",
       "      <td>18</td>\n",
       "      <td>25</td>\n",
       "      <td>21</td>\n",
       "    </tr>\n",
       "    <tr>\n",
       "      <th>1</th>\n",
       "      <td>7</td>\n",
       "      <td>9</td>\n",
       "      <td>14</td>\n",
       "      <td>11</td>\n",
       "    </tr>\n",
       "    <tr>\n",
       "      <th>2</th>\n",
       "      <td>8</td>\n",
       "      <td>12</td>\n",
       "      <td>20</td>\n",
       "      <td>15</td>\n",
       "    </tr>\n",
       "    <tr>\n",
       "      <th>3</th>\n",
       "      <td>8</td>\n",
       "      <td>15</td>\n",
       "      <td>25</td>\n",
       "      <td>18</td>\n",
       "    </tr>\n",
       "    <tr>\n",
       "      <th>4</th>\n",
       "      <td>8</td>\n",
       "      <td>14</td>\n",
       "      <td>23</td>\n",
       "      <td>17</td>\n",
       "    </tr>\n",
       "  </tbody>\n",
       "</table>\n",
       "</div>"
      ],
      "text/plain": [
       "   # Gears  CityMPG  HwyMPG  CombMPG\n",
       "0        8       18      25       21\n",
       "1        7        9      14       11\n",
       "2        8       12      20       15\n",
       "3        8       15      25       18\n",
       "4        8       14      23       17"
      ]
     },
     "execution_count": 4,
     "metadata": {},
     "output_type": "execute_result"
    }
   ],
   "source": [
    "df2 = df[['# Gears','CityMPG', 'HwyMPG', 'CombMPG']]\n",
    "df2.head()"
   ]
  },
  {
   "cell_type": "markdown",
   "id": "2d6fd510",
   "metadata": {},
   "source": [
    "# Question 1"
   ]
  },
  {
   "cell_type": "markdown",
   "id": "db7231d4",
   "metadata": {},
   "source": [
    "#### What conclusion are you able to reach?"
   ]
  },
  {
   "cell_type": "markdown",
   "id": "27ae8765",
   "metadata": {},
   "source": [
    "Answer: Based from the different visualizations below, it shows that the combined MPG rating and the number of gears have a negative correlation. "
   ]
  },
  {
   "cell_type": "markdown",
   "id": "536a891f",
   "metadata": {},
   "source": [
    "#### Scatter Plot"
   ]
  },
  {
   "cell_type": "code",
   "execution_count": 6,
   "id": "031c6708",
   "metadata": {},
   "outputs": [
    {
     "data": {
      "text/plain": [
       "<AxesSubplot:xlabel='# Gears', ylabel='CombMPG'>"
      ]
     },
     "execution_count": 6,
     "metadata": {},
     "output_type": "execute_result"
    },
    {
     "data": {
      "image/png": "[encoded data removed]",
      "text/plain": [
       "<Figure size 432x288 with 1 Axes>"
      ]
     },
     "metadata": {
      "needs_background": "light"
     },
     "output_type": "display_data"
    }
   ],
   "source": [
    "sns.scatterplot(data = df, x = '# Gears', y = 'CombMPG')"
   ]
  },
  {
   "cell_type": "markdown",
   "id": "ffe9dbfe",
   "metadata": {},
   "source": [
    "#### Displot"
   ]
  },
  {
   "cell_type": "code",
   "execution_count": 7,
   "id": "ab18343a",
   "metadata": {},
   "outputs": [
    {
     "data": {
      "text/plain": [
       "<seaborn.axisgrid.FacetGrid at 0x2113d99b550>"
      ]
     },
     "execution_count": 7,
     "metadata": {},
     "output_type": "execute_result"
    },
    {
     "data": {
      "image/png": "[encoded data removed]",
      "text/plain": [
       "<Figure size 360x360 with 1 Axes>"
      ]
     },
     "metadata": {
      "needs_background": "light"
     },
     "output_type": "display_data"
    }
   ],
   "source": [
    "sns.displot(data = df, x = '# Gears', y = 'CombMPG')"
   ]
  },
  {
   "cell_type": "markdown",
   "id": "d2699849",
   "metadata": {},
   "source": [
    "#### Boxplot"
   ]
  },
  {
   "cell_type": "code",
   "execution_count": 8,
   "id": "058d5ffd",
   "metadata": {},
   "outputs": [
    {
     "data": {
      "text/plain": [
       "[Text(0, 0, '1'),\n",
       " Text(1, 0, '5'),\n",
       " Text(2, 0, '6'),\n",
       " Text(3, 0, '7'),\n",
       " Text(4, 0, '8'),\n",
       " Text(5, 0, '9'),\n",
       " Text(6, 0, '10')]"
      ]
     },
     "execution_count": 8,
     "metadata": {},
     "output_type": "execute_result"
    },
    {
     "data": {
      "image/png": "[encoded data removed]",
      "text/plain": [
       "<Figure size 1080x360 with 1 Axes>"
      ]
     },
     "metadata": {},
     "output_type": "display_data"
    }
   ],
   "source": [
    "sns.set(rc={'figure.figsize':(15,5)})\n",
    "ax = sns.boxplot(x = '# Gears', y = 'CombMPG', data = df)\n",
    "ax.set_xticklabels(ax.get_xticklabels(), rotation=45)"
   ]
  },
  {
   "cell_type": "markdown",
   "id": "0b791409",
   "metadata": {},
   "source": [
    "#### Heatmap"
   ]
  },
  {
   "cell_type": "code",
   "execution_count": 9,
   "id": "92e1ab03",
   "metadata": {},
   "outputs": [
    {
     "data": {
      "text/plain": [
       "<AxesSubplot:xlabel='# Gears', ylabel='CombMPG'>"
      ]
     },
     "execution_count": 9,
     "metadata": {},
     "output_type": "execute_result"
    },
    {
     "data": {
      "image/png": "[encoded data removed]",
      "text/plain": [
       "<Figure size 1080x360 with 2 Axes>"
      ]
     },
     "metadata": {},
     "output_type": "display_data"
    }
   ],
   "source": [
    "df2 = df.pivot_table(index='CombMPG', columns='# Gears', values='Eng Displ', aggfunc='mean')\n",
    "sns.heatmap(df2)"
   ]
  },
  {
   "cell_type": "markdown",
   "id": "85ecf895",
   "metadata": {},
   "source": [
    "# Question 2"
   ]
  },
  {
   "cell_type": "code",
   "execution_count": 10,
   "id": "d40e4f02",
   "metadata": {},
   "outputs": [],
   "source": [
    "from numpy import random\n",
    "random.seed(0)\n",
    "\n",
    "totals = {20:0, 30:0, 40:0, 50:0, 60:0, 70:0,}\n",
    "purchases = {20:0, 30:0, 40:0, 50:0, 60:0, 70:0,}\n",
    "totalPurchases = 0\n",
    "\n",
    "for _ in range(10000):\n",
    "    ageDecade = random.choice([20,30,40,50,60,70])\n",
    "    purchaseProbability = float(ageDecade) / 100.0\n",
    "    totals[ageDecade] += 1\n",
    "    if (random.random() < purchaseProbability):\n",
    "        totalPurchases += 1\n",
    "        purchases[ageDecade] += 1"
   ]
  },
  {
   "cell_type": "code",
   "execution_count": 11,
   "id": "66003cda",
   "metadata": {
    "scrolled": false
   },
   "outputs": [
    {
     "data": {
      "text/plain": [
       "{20: 1660, 30: 1652, 40: 1630, 50: 1670, 60: 1669, 70: 1719}"
      ]
     },
     "execution_count": 11,
     "metadata": {},
     "output_type": "execute_result"
    }
   ],
   "source": [
    "totals"
   ]
  },
  {
   "cell_type": "code",
   "execution_count": 12,
   "id": "2dbab94a",
   "metadata": {},
   "outputs": [
    {
     "data": {
      "text/plain": [
       "{20: 339, 30: 494, 40: 646, 50: 834, 60: 1004, 70: 1190}"
      ]
     },
     "execution_count": 12,
     "metadata": {},
     "output_type": "execute_result"
    }
   ],
   "source": [
    "purchases"
   ]
  },
  {
   "cell_type": "code",
   "execution_count": 13,
   "id": "ac7c2db5",
   "metadata": {},
   "outputs": [
    {
     "data": {
      "text/plain": [
       "4507"
      ]
     },
     "execution_count": 13,
     "metadata": {},
     "output_type": "execute_result"
    }
   ],
   "source": [
    "totalPurchases"
   ]
  },
  {
   "cell_type": "code",
   "execution_count": 15,
   "id": "dccc3e02",
   "metadata": {},
   "outputs": [
    {
     "name": "stdout",
     "output_type": "stream",
     "text": [
      "P(purchase | 20s): 0.20421686746987952\n"
     ]
    }
   ],
   "source": [
    "PEF = float(purchases[20]) / float(totals[20])\n",
    "print('P(purchase | 20s): ' + str(PEF))"
   ]
  },
  {
   "cell_type": "code",
   "execution_count": 16,
   "id": "77114309",
   "metadata": {},
   "outputs": [
    {
     "name": "stdout",
     "output_type": "stream",
     "text": [
      "P(20's): 0.0166\n"
     ]
    }
   ],
   "source": [
    "PF = float(totals[20] / 100000.0)\n",
    "print(\"P(20's): \" +str(PF))"
   ]
  },
  {
   "cell_type": "code",
   "execution_count": 17,
   "id": "ba511e86",
   "metadata": {},
   "outputs": [
    {
     "name": "stdout",
     "output_type": "stream",
     "text": [
      "P(Purchases): 0.04507\n"
     ]
    }
   ],
   "source": [
    "PE = float(totalPurchases / 100000.0)\n",
    "print(\"P(Purchases): \" +str(PE))"
   ]
  },
  {
   "cell_type": "code",
   "execution_count": 18,
   "id": "6b184d91",
   "metadata": {},
   "outputs": [
    {
     "name": "stdout",
     "output_type": "stream",
     "text": [
      "P(20's Purchases): 0.00339\n"
     ]
    }
   ],
   "source": [
    "print(\"P(20's Purchases): \" +str(float(purchases[20] / 100000.0)))"
   ]
  },
  {
   "cell_type": "markdown",
   "id": "fd391e3e",
   "metadata": {},
   "source": [
    "#### Proving that E and F are independent"
   ]
  },
  {
   "cell_type": "code",
   "execution_count": 19,
   "id": "ed48a61f",
   "metadata": {},
   "outputs": [
    {
     "data": {
      "text/plain": [
       "0.04507"
      ]
     },
     "execution_count": 19,
     "metadata": {},
     "output_type": "execute_result"
    }
   ],
   "source": [
    "EF = (PE * PF) / PF\n",
    "EF"
   ]
  },
  {
   "cell_type": "markdown",
   "id": "6e1c1531",
   "metadata": {},
   "source": [
    "#### Verifying that P(E|F) is approximately equal to P(E)"
   ]
  },
  {
   "cell_type": "code",
   "execution_count": 20,
   "id": "1ebdf87f",
   "metadata": {},
   "outputs": [
    {
     "data": {
      "text/plain": [
       "True"
      ]
     },
     "execution_count": 20,
     "metadata": {},
     "output_type": "execute_result"
    }
   ],
   "source": [
    "EF == PE"
   ]
  },
  {
   "cell_type": "markdown",
   "id": "16ca3e55",
   "metadata": {},
   "source": [
    "# Question 3: Linear Regression"
   ]
  },
  {
   "cell_type": "code",
   "execution_count": 21,
   "id": "e80ad09f",
   "metadata": {},
   "outputs": [],
   "source": [
    "%matplotlib inline\n",
    "import numpy as np\n",
    "from pylab import *"
   ]
  },
  {
   "cell_type": "code",
   "execution_count": 30,
   "id": "ec9a5285",
   "metadata": {},
   "outputs": [
    {
     "data": {
      "text/plain": [
       "<matplotlib.collections.PathCollection at 0x2113e304a60>"
      ]
     },
     "execution_count": 30,
     "metadata": {},
     "output_type": "execute_result"
    },
    {
     "data": {
      "image/png": "[encoded data removed]",
      "text/plain": [
       "<Figure size 432x288 with 1 Axes>"
      ]
     },
     "metadata": {
      "needs_background": "light"
     },
     "output_type": "display_data"
    }
   ],
   "source": [
    "pageSpeeds = np.random.normal(3.0, 1.0, 1000)\n",
    "purchaseAmount = 100 - (pageSpeeds + np.random.normal(0, 0.5, 1000))* 3\n",
    "\n",
    "scatter(pageSpeeds, purchaseAmount)"
   ]
  },
  {
   "cell_type": "code",
   "execution_count": 31,
   "id": "34f09970",
   "metadata": {},
   "outputs": [],
   "source": [
    "from scipy import stats\n",
    "\n",
    "slope, intercept, r_value, p_value, std_err = stats.linregress(pageSpeeds, purchaseAmount)"
   ]
  },
  {
   "cell_type": "code",
   "execution_count": 32,
   "id": "810fc927",
   "metadata": {},
   "outputs": [
    {
     "data": {
      "text/plain": [
       "0.7961810089903391"
      ]
     },
     "execution_count": 32,
     "metadata": {},
     "output_type": "execute_result"
    }
   ],
   "source": [
    "r_value ** 2"
   ]
  },
  {
   "cell_type": "code",
   "execution_count": 33,
   "id": "8ba723b9",
   "metadata": {},
   "outputs": [
    {
     "data": {
      "image/png": "[encoded data removed]",
      "text/plain": [
       "<Figure size 432x288 with 1 Axes>"
      ]
     },
     "metadata": {
      "needs_background": "light"
     },
     "output_type": "display_data"
    }
   ],
   "source": [
    "import matplotlib.pyplot as plt\n",
    "\n",
    "def predict(x):\n",
    "    return slope * x + intercept\n",
    "\n",
    "fitLine = predict(pageSpeeds)\n",
    "\n",
    "plt.scatter(pageSpeeds, purchaseAmount)\n",
    "plt.plot(pageSpeeds, fitLine, c='y')\n",
    "plt.show()"
   ]
  },
  {
   "cell_type": "markdown",
   "id": "6ea8c58c",
   "metadata": {},
   "source": [
    "#### Increase the amount of random variation in the test data and see the effect on the r-squared error value. "
   ]
  },
  {
   "cell_type": "markdown",
   "id": "c17e8f5b",
   "metadata": {},
   "source": [
    "Conclusion: The r-square value decreases as the random variation in the test data increases."
   ]
  },
  {
   "cell_type": "markdown",
   "id": "f89e3c2b",
   "metadata": {},
   "source": [
    "# Question 4: Polynomial Regression "
   ]
  },
  {
   "cell_type": "code",
   "execution_count": 35,
   "id": "9fd2b3c9",
   "metadata": {},
   "outputs": [
    {
     "data": {
      "text/plain": [
       "<matplotlib.collections.PathCollection at 0x2113e37d280>"
      ]
     },
     "execution_count": 35,
     "metadata": {},
     "output_type": "execute_result"
    },
    {
     "data": {
      "image/png": "[encoded data removed]",
      "text/plain": [
       "<Figure size 432x288 with 1 Axes>"
      ]
     },
     "metadata": {
      "needs_background": "light"
     },
     "output_type": "display_data"
    }
   ],
   "source": [
    "np.random.seed(2)\n",
    "pageSpeeds = np.random.normal(3.0, 1.0, 1000)\n",
    "purchaseAmount = np.random.normal(50.0, 10.0, 1000)  /  pageSpeeds\n",
    "\n",
    "scatter(pageSpeeds, purchaseAmount)"
   ]
  },
  {
   "cell_type": "code",
   "execution_count": 45,
   "id": "451cb8f7",
   "metadata": {},
   "outputs": [
    {
     "data": {
      "image/png": "[encoded data removed]",
      "text/plain": [
       "<Figure size 432x288 with 1 Axes>"
      ]
     },
     "metadata": {
      "needs_background": "light"
     },
     "output_type": "display_data"
    }
   ],
   "source": [
    "x = np.array(pageSpeeds)\n",
    "y = np.array(purchaseAmount)\n",
    "\n",
    "p4 = np.poly1d(np.polyfit(x,y,1))\n",
    "\n",
    "\n",
    "xp = np.linspace(0, 7, 100)\n",
    "plt.scatter(x,y)\n",
    "plt.plot(xp, p4(xp), c ='r')\n",
    "plt.show()"
   ]
  },
  {
   "cell_type": "code",
   "execution_count": 46,
   "id": "e189c06e",
   "metadata": {},
   "outputs": [
    {
     "data": {
      "text/plain": [
       "0.5024941304548026"
      ]
     },
     "execution_count": 46,
     "metadata": {},
     "output_type": "execute_result"
    }
   ],
   "source": [
    "from sklearn.metrics import r2_score\n",
    "\n",
    "r2 = r2_score(y, p4(x))\n",
    "r2"
   ]
  },
  {
   "cell_type": "code",
   "execution_count": 47,
   "id": "b2cea099",
   "metadata": {},
   "outputs": [
    {
     "data": {
      "image/png": "[encoded data removed]",
      "text/plain": [
       "<Figure size 432x288 with 1 Axes>"
      ]
     },
     "metadata": {
      "needs_background": "light"
     },
     "output_type": "display_data"
    }
   ],
   "source": [
    "p4 = np.poly1d(np.polyfit(x,y,8))\n",
    "\n",
    "xp = np.linspace(0, 7, 100)\n",
    "plt.scatter(x,y)\n",
    "plt.plot(xp, p4(xp), c ='r')\n",
    "plt.show()"
   ]
  },
  {
   "cell_type": "markdown",
   "id": "42c88f68",
   "metadata": {},
   "source": [
    "#### Q: Can you obtain a more precise fit with larger orders?"
   ]
  },
  {
   "cell_type": "markdown",
   "id": "bc65ea79",
   "metadata": {},
   "source": [
    "Answer: Based on the visualization, yes you can obtain a more precise fit with larger orders."
   ]
  },
  {
   "cell_type": "markdown",
   "id": "ff7ec4f6",
   "metadata": {},
   "source": [
    "#### Do you begin to see overfitting, despite the fact that the r-squared score appears to be acceptable for this specific dataset?"
   ]
  },
  {
   "cell_type": "markdown",
   "id": "174de599",
   "metadata": {},
   "source": [
    "Answer: Yes, even though the precision of the r-squared score appears to be acceptable, I think there is an overfitting."
   ]
  },
  {
   "cell_type": "code",
   "execution_count": 48,
   "id": "45b32679",
   "metadata": {},
   "outputs": [
    {
     "data": {
      "text/plain": [
       "0.8814395663681419"
      ]
     },
     "execution_count": 48,
     "metadata": {},
     "output_type": "execute_result"
    }
   ],
   "source": [
    "r2 = r2_score(y, p4(x))\n",
    "r2"
   ]
  },
  {
   "cell_type": "code",
   "execution_count": null,
   "id": "d22578d7",
   "metadata": {},
   "outputs": [],
   "source": []
  }
 ],
 "metadata": {
  "kernelspec": {
   "display_name": "Python 3",
   "language": "python",
   "name": "python3"
  },
  "language_info": {
   "codemirror_mode": {
    "name": "ipython",
    "version": 3
   },
   "file_extension": ".py",
   "mimetype": "text/x-python",
   "name": "python",
   "nbconvert_exporter": "python",
   "pygments_lexer": "ipython3",
   "version": "3.8.8"
  }
 },
 "nbformat": 4,
 "nbformat_minor": 5
}
