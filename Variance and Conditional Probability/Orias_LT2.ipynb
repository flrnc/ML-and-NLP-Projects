{
 "cells": [
  {
   "cell_type": "markdown",
   "id": "627eaa99",
   "metadata": {},
   "source": [
    "## A. What is the variance of the data set (8,16,21,16,36)?"
   ]
  },
  {
   "cell_type": "code",
   "execution_count": 1,
   "id": "ac7720f9",
   "metadata": {},
   "outputs": [
    {
     "data": {
      "text/html": [
       "<div>\n",
       "<style scoped>\n",
       "    .dataframe tbody tr th:only-of-type {\n",
       "        vertical-align: middle;\n",
       "    }\n",
       "\n",
       "    .dataframe tbody tr th {\n",
       "        vertical-align: top;\n",
       "    }\n",
       "\n",
       "    .dataframe thead th {\n",
       "        text-align: right;\n",
       "    }\n",
       "</style>\n",
       "<table border=\"1\" class=\"dataframe\">\n",
       "  <thead>\n",
       "    <tr style=\"text-align: right;\">\n",
       "      <th></th>\n",
       "      <th>Data Set</th>\n",
       "    </tr>\n",
       "  </thead>\n",
       "  <tbody>\n",
       "    <tr>\n",
       "      <th>0</th>\n",
       "      <td>8</td>\n",
       "    </tr>\n",
       "    <tr>\n",
       "      <th>1</th>\n",
       "      <td>16</td>\n",
       "    </tr>\n",
       "    <tr>\n",
       "      <th>2</th>\n",
       "      <td>21</td>\n",
       "    </tr>\n",
       "    <tr>\n",
       "      <th>3</th>\n",
       "      <td>16</td>\n",
       "    </tr>\n",
       "    <tr>\n",
       "      <th>4</th>\n",
       "      <td>36</td>\n",
       "    </tr>\n",
       "  </tbody>\n",
       "</table>\n",
       "</div>"
      ],
      "text/plain": [
       "   Data Set\n",
       "0         8\n",
       "1        16\n",
       "2        21\n",
       "3        16\n",
       "4        36"
      ]
     },
     "execution_count": 1,
     "metadata": {},
     "output_type": "execute_result"
    }
   ],
   "source": [
    "import numpy as np\n",
    "import pandas as pd\n",
    "\n",
    "data = pd.DataFrame([8,16,21,16,36], columns=['Data Set'])\n",
    "data"
   ]
  },
  {
   "cell_type": "markdown",
   "id": "a7b9e219",
   "metadata": {},
   "source": [
    "## Mean"
   ]
  },
  {
   "cell_type": "code",
   "execution_count": 2,
   "id": "98a516ce",
   "metadata": {},
   "outputs": [
    {
     "data": {
      "text/plain": [
       "Data Set    19.4\n",
       "dtype: float64"
      ]
     },
     "execution_count": 2,
     "metadata": {},
     "output_type": "execute_result"
    }
   ],
   "source": [
    "mean = data.mean()\n",
    "mean"
   ]
  },
  {
   "cell_type": "markdown",
   "id": "f6743ba9",
   "metadata": {},
   "source": [
    "## Differences from the mean"
   ]
  },
  {
   "cell_type": "code",
   "execution_count": 3,
   "id": "4a7393a9",
   "metadata": {},
   "outputs": [
    {
     "data": {
      "text/html": [
       "<div>\n",
       "<style scoped>\n",
       "    .dataframe tbody tr th:only-of-type {\n",
       "        vertical-align: middle;\n",
       "    }\n",
       "\n",
       "    .dataframe tbody tr th {\n",
       "        vertical-align: top;\n",
       "    }\n",
       "\n",
       "    .dataframe thead th {\n",
       "        text-align: right;\n",
       "    }\n",
       "</style>\n",
       "<table border=\"1\" class=\"dataframe\">\n",
       "  <thead>\n",
       "    <tr style=\"text-align: right;\">\n",
       "      <th></th>\n",
       "      <th>Data Set</th>\n",
       "    </tr>\n",
       "  </thead>\n",
       "  <tbody>\n",
       "    <tr>\n",
       "      <th>0</th>\n",
       "      <td>-11.4</td>\n",
       "    </tr>\n",
       "    <tr>\n",
       "      <th>1</th>\n",
       "      <td>-3.4</td>\n",
       "    </tr>\n",
       "    <tr>\n",
       "      <th>2</th>\n",
       "      <td>1.6</td>\n",
       "    </tr>\n",
       "    <tr>\n",
       "      <th>3</th>\n",
       "      <td>-3.4</td>\n",
       "    </tr>\n",
       "    <tr>\n",
       "      <th>4</th>\n",
       "      <td>16.6</td>\n",
       "    </tr>\n",
       "  </tbody>\n",
       "</table>\n",
       "</div>"
      ],
      "text/plain": [
       "   Data Set\n",
       "0     -11.4\n",
       "1      -3.4\n",
       "2       1.6\n",
       "3      -3.4\n",
       "4      16.6"
      ]
     },
     "execution_count": 3,
     "metadata": {},
     "output_type": "execute_result"
    }
   ],
   "source": [
    "diff = data['Data Set'].apply(lambda x: x - mean)\n",
    "diff"
   ]
  },
  {
   "cell_type": "markdown",
   "id": "d98e3512",
   "metadata": {},
   "source": [
    "## Squared Differences"
   ]
  },
  {
   "cell_type": "code",
   "execution_count": 4,
   "id": "afcbe916",
   "metadata": {},
   "outputs": [
    {
     "data": {
      "text/plain": [
       "0    129.96\n",
       "1     11.56\n",
       "2      2.56\n",
       "3     11.56\n",
       "4    275.56\n",
       "Name: Data Set, dtype: float64"
      ]
     },
     "execution_count": 4,
     "metadata": {},
     "output_type": "execute_result"
    }
   ],
   "source": [
    "square = diff['Data Set'].apply(lambda x: x**2)\n",
    "square"
   ]
  },
  {
   "cell_type": "markdown",
   "id": "6098daaf",
   "metadata": {},
   "source": [
    "## Average of Squared Differences"
   ]
  },
  {
   "cell_type": "code",
   "execution_count": 5,
   "id": "b459cbc0",
   "metadata": {},
   "outputs": [
    {
     "data": {
      "text/plain": [
       "86.24000000000001"
      ]
     },
     "execution_count": 5,
     "metadata": {},
     "output_type": "execute_result"
    }
   ],
   "source": [
    "ave = square.mean()\n",
    "ave"
   ]
  },
  {
   "cell_type": "markdown",
   "id": "cac18a0c",
   "metadata": {},
   "source": [
    "## Standard Deviation"
   ]
  },
  {
   "cell_type": "code",
   "execution_count": 8,
   "id": "2093176b",
   "metadata": {},
   "outputs": [
    {
     "data": {
      "text/plain": [
       "9.28654941299512"
      ]
     },
     "execution_count": 8,
     "metadata": {},
     "output_type": "execute_result"
    }
   ],
   "source": [
    "data_std = np.sqrt(ave)\n",
    "data_std"
   ]
  },
  {
   "cell_type": "markdown",
   "id": "3e8e0128",
   "metadata": {},
   "source": [
    "## B. Conditional Probability of BCS students"
   ]
  },
  {
   "cell_type": "code",
   "execution_count": 9,
   "id": "c7b96416",
   "metadata": {},
   "outputs": [
    {
     "data": {
      "text/plain": [
       "85"
      ]
     },
     "execution_count": 9,
     "metadata": {},
     "output_type": "execute_result"
    }
   ],
   "source": [
    "x = 0.88\n",
    "y = 0.75\n",
    "\n",
    "#Formula: P(B|A) = P (A U B) / P(A)\n",
    "\n",
    "B = round((y / x) * 100)\n",
    "B"
   ]
  },
  {
   "cell_type": "code",
   "execution_count": null,
   "id": "4449e76e",
   "metadata": {},
   "outputs": [],
   "source": []
  },
  {
   "cell_type": "code",
   "execution_count": null,
   "id": "4cdbb6cf",
   "metadata": {},
   "outputs": [],
   "source": []
  }
 ],
 "metadata": {
  "kernelspec": {
   "display_name": "Python 3",
   "language": "python",
   "name": "python3"
  },
  "language_info": {
   "codemirror_mode": {
    "name": "ipython",
    "version": 3
   },
   "file_extension": ".py",
   "mimetype": "text/x-python",
   "name": "python",
   "nbconvert_exporter": "python",
   "pygments_lexer": "ipython3",
   "version": "3.8.8"
  }
 },
 "nbformat": 4,
 "nbformat_minor": 5
}
