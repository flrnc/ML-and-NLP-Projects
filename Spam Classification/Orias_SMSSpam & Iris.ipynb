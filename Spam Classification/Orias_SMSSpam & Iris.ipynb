{
 "cells": [
  {
   "cell_type": "code",
   "execution_count": 75,
   "id": "3beb4cf6",
   "metadata": {},
   "outputs": [],
   "source": [
    "import pandas as pd\n",
    "import re\n",
    "import string\n",
    "import nltk\n",
    "%matplotlib inline "
   ]
  },
  {
   "cell_type": "code",
   "execution_count": 76,
   "id": "846ae079",
   "metadata": {},
   "outputs": [],
   "source": [
    "stopwords = nltk.corpus.stopwords.words('english')\n",
    "ps = nltk.PorterStemmer()\n",
    "\n",
    "data = pd.read_csv('SMSSpamCollection', sep = '\\t', header=None)\n",
    "data.columns = ['label', 'msg']"
   ]
  },
  {
   "cell_type": "code",
   "execution_count": 77,
   "id": "e84e4b30",
   "metadata": {},
   "outputs": [],
   "source": [
    "#text cleaning"
   ]
  },
  {
   "cell_type": "code",
   "execution_count": 78,
   "id": "20ee82bf",
   "metadata": {},
   "outputs": [
    {
     "data": {
      "text/html": [
       "<div>\n",
       "<style scoped>\n",
       "    .dataframe tbody tr th:only-of-type {\n",
       "        vertical-align: middle;\n",
       "    }\n",
       "\n",
       "    .dataframe tbody tr th {\n",
       "        vertical-align: top;\n",
       "    }\n",
       "\n",
       "    .dataframe thead th {\n",
       "        text-align: right;\n",
       "    }\n",
       "</style>\n",
       "<table border=\"1\" class=\"dataframe\">\n",
       "  <thead>\n",
       "    <tr style=\"text-align: right;\">\n",
       "      <th></th>\n",
       "      <th>label</th>\n",
       "      <th>msg</th>\n",
       "      <th>punctuation_%</th>\n",
       "      <th>msg_len</th>\n",
       "    </tr>\n",
       "  </thead>\n",
       "  <tbody>\n",
       "    <tr>\n",
       "      <th>0</th>\n",
       "      <td>ham</td>\n",
       "      <td>Go until jurong point, crazy.. Available only ...</td>\n",
       "      <td>111</td>\n",
       "      <td>111</td>\n",
       "    </tr>\n",
       "    <tr>\n",
       "      <th>1</th>\n",
       "      <td>ham</td>\n",
       "      <td>Ok lar... Joking wif u oni...</td>\n",
       "      <td>29</td>\n",
       "      <td>29</td>\n",
       "    </tr>\n",
       "    <tr>\n",
       "      <th>2</th>\n",
       "      <td>spam</td>\n",
       "      <td>Free entry in 2 a wkly comp to win FA Cup fina...</td>\n",
       "      <td>155</td>\n",
       "      <td>155</td>\n",
       "    </tr>\n",
       "    <tr>\n",
       "      <th>3</th>\n",
       "      <td>ham</td>\n",
       "      <td>U dun say so early hor... U c already then say...</td>\n",
       "      <td>49</td>\n",
       "      <td>49</td>\n",
       "    </tr>\n",
       "    <tr>\n",
       "      <th>4</th>\n",
       "      <td>ham</td>\n",
       "      <td>Nah I don't think he goes to usf, he lives aro...</td>\n",
       "      <td>61</td>\n",
       "      <td>61</td>\n",
       "    </tr>\n",
       "  </tbody>\n",
       "</table>\n",
       "</div>"
      ],
      "text/plain": [
       "  label                                                msg  punctuation_%  \\\n",
       "0   ham  Go until jurong point, crazy.. Available only ...            111   \n",
       "1   ham                      Ok lar... Joking wif u oni...             29   \n",
       "2  spam  Free entry in 2 a wkly comp to win FA Cup fina...            155   \n",
       "3   ham  U dun say so early hor... U c already then say...             49   \n",
       "4   ham  Nah I don't think he goes to usf, he lives aro...             61   \n",
       "\n",
       "   msg_len  \n",
       "0      111  \n",
       "1       29  \n",
       "2      155  \n",
       "3       49  \n",
       "4       61  "
      ]
     },
     "execution_count": 78,
     "metadata": {},
     "output_type": "execute_result"
    }
   ],
   "source": [
    "def clean_text(txt):\n",
    "    txt = \"\".join([c for c in txt if c not in string.punctuation])\n",
    "    tokens = re.split('W+', txt)\n",
    "    txt = [ps.stem(word)for word in tokens if word not in stopwords]\n",
    "    return txt\n",
    "\n",
    "import string \n",
    "def punctuation_count(txt):\n",
    "    count = sum([1 for c in txt if c in string.punctuation])\n",
    "    return 100*count/len(txt)\n",
    "\n",
    "data['punctuation_%'] = data['msg'].apply(lambda x: len(x)).values\n",
    "data.head()\n",
    "\n",
    "data['msg_len'] = data['msg'].apply(lambda x: len(x)).values\n",
    "data.head()"
   ]
  },
  {
   "cell_type": "code",
   "execution_count": 79,
   "id": "e3841de6",
   "metadata": {},
   "outputs": [],
   "source": [
    "#plot message lengths for spam and ham"
   ]
  },
  {
   "cell_type": "code",
   "execution_count": 80,
   "id": "38c0eca3",
   "metadata": {},
   "outputs": [
    {
     "data": {
      "image/png": "[encoded data removed]",
      "text/plain": [
       "<Figure size 432x288 with 1 Axes>"
      ]
     },
     "metadata": {
      "needs_background": "light"
     },
     "output_type": "display_data"
    }
   ],
   "source": [
    "from matplotlib import pyplot\n",
    "import numpy as np\n",
    "%matplotlib inline\n",
    "\n",
    "bins = np.linspace(0, 250, 50)\n",
    "pyplot.hist(data[data['label'] == 'spam']['msg_len'], bins, label = 'spam')\n",
    "pyplot.hist(data[data['label'] == 'ham']['msg_len'], bins, label = 'ham')\n",
    "pyplot.legend(loc='upper right')\n",
    "pyplot.show()"
   ]
  },
  {
   "cell_type": "code",
   "execution_count": 81,
   "id": "cdda2d36",
   "metadata": {},
   "outputs": [
    {
     "data": {
      "image/png": "[encoded data removed]",
      "text/plain": [
       "<Figure size 432x288 with 1 Axes>"
      ]
     },
     "metadata": {
      "needs_background": "light"
     },
     "output_type": "display_data"
    }
   ],
   "source": [
    "bins = np.linspace(0, 30, 50)\n",
    "pyplot.hist(data[data['label'] == 'spam']['msg_len'], bins, label = 'spam')\n",
    "pyplot.hist(data[data['label'] == 'ham']['msg_len'], bins, label = 'ham')\n",
    "pyplot.legend(loc='upper right')\n",
    "pyplot.show()"
   ]
  },
  {
   "cell_type": "code",
   "execution_count": 82,
   "id": "8ab12ccf",
   "metadata": {},
   "outputs": [],
   "source": [
    "#transformation process"
   ]
  },
  {
   "cell_type": "code",
   "execution_count": 83,
   "id": "a12d2753",
   "metadata": {},
   "outputs": [
    {
     "data": {
      "image/png": "[encoded data removed]",
      "text/plain": [
       "<Figure size 432x288 with 1 Axes>"
      ]
     },
     "metadata": {
      "needs_background": "light"
     },
     "output_type": "display_data"
    }
   ],
   "source": [
    "bins = np.linspace(0, 250, 50)\n",
    "pyplot.hist(data['msg_len'], bins)\n",
    "pyplot.title('Message length')\n",
    "pyplot.show()"
   ]
  },
  {
   "cell_type": "code",
   "execution_count": 84,
   "id": "dede5038",
   "metadata": {},
   "outputs": [
    {
     "data": {
      "image/png": "[encoded data removed]",
      "text/plain": [
       "<Figure size 432x288 with 1 Axes>"
      ]
     },
     "metadata": {
      "needs_background": "light"
     },
     "output_type": "display_data"
    }
   ],
   "source": [
    "bins = np.linspace(0, 50, 50)\n",
    "pyplot.hist(data['punctuation_%'], bins)\n",
    "pyplot.title('Punctuation %')\n",
    "pyplot.show()"
   ]
  },
  {
   "cell_type": "code",
   "execution_count": 85,
   "id": "5a166546",
   "metadata": {},
   "outputs": [
    {
     "data": {
      "image/png": "[encoded data removed]",
      "text/plain": [
       "<Figure size 432x288 with 1 Axes>"
      ]
     },
     "metadata": {
      "needs_background": "light"
     },
     "output_type": "display_data"
    },
    {
     "data": {
      "image/png": "[encoded data removed]",
      "text/plain": [
       "<Figure size 432x288 with 1 Axes>"
      ]
     },
     "metadata": {
      "needs_background": "light"
     },
     "output_type": "display_data"
    },
    {
     "data": {
      "image/png": "[encoded data removed]",
      "text/plain": [
       "<Figure size 432x288 with 1 Axes>"
      ]
     },
     "metadata": {
      "needs_background": "light"
     },
     "output_type": "display_data"
    }
   ],
   "source": [
    "for i in [3, 6, 9]:\n",
    "    pyplot.hist((data['punctuation_%'])**(1/i), bins=50)\n",
    "    pyplot.title(f'Transform = 1/{i}')\n",
    "    pyplot.show()"
   ]
  },
  {
   "cell_type": "code",
   "execution_count": 86,
   "id": "e1fcf2a5",
   "metadata": {},
   "outputs": [
    {
     "data": {
      "image/png": "[encoded data removed]",
      "text/plain": [
       "<Figure size 432x288 with 1 Axes>"
      ]
     },
     "metadata": {
      "needs_background": "light"
     },
     "output_type": "display_data"
    }
   ],
   "source": [
    "import numpy as np\n",
    "from scipy.stats import norm\n",
    "import matplotlib.pyplot as plt\n",
    "\n",
    "x = np.arange(-3, 3, 0.001)\n",
    "plt.plot(x, norm.pdf(x)) # probability density functions (from the arange value) \n",
    "plt.show()"
   ]
  },
  {
   "cell_type": "markdown",
   "id": "46ce37f4",
   "metadata": {},
   "source": [
    "### ACTIVITY"
   ]
  },
  {
   "cell_type": "markdown",
   "id": "547b3020",
   "metadata": {},
   "source": [
    "#### 1.Use the Probability Density Function (pdf) to transform the data\n"
   ]
  },
  {
   "cell_type": "code",
   "execution_count": 87,
   "id": "49a9fe9e",
   "metadata": {},
   "outputs": [
    {
     "data": {
      "image/png": "[encoded data removed]",
      "text/plain": [
       "<Figure size 432x288 with 1 Axes>"
      ]
     },
     "metadata": {
      "needs_background": "light"
     },
     "output_type": "display_data"
    }
   ],
   "source": [
    "x = np.arange(0, 250, 50)\n",
    "plt.plot(x, norm.pdf(x,  np.mean(x),np.std(x)))\n",
    "plt.show()"
   ]
  },
  {
   "cell_type": "markdown",
   "id": "71674e8a",
   "metadata": {},
   "source": [
    "#### 2. Plot the data using Scatter Plot"
   ]
  },
  {
   "cell_type": "code",
   "execution_count": 88,
   "id": "050c0720",
   "metadata": {},
   "outputs": [
    {
     "data": {
      "image/png": "[encoded data removed]",
      "text/plain": [
       "<Figure size 432x288 with 1 Axes>"
      ]
     },
     "metadata": {
      "needs_background": "light"
     },
     "output_type": "display_data"
    }
   ],
   "source": [
    "plt.scatter(x, norm.pdf(x,  np.mean(x),np.std(x)))\n",
    "plt.title('Probability Density Function Scatter Plot')\n",
    "plt.show()"
   ]
  },
  {
   "cell_type": "markdown",
   "id": "33030bd1",
   "metadata": {},
   "source": [
    "#### 3. Use np.random.normal(Value1, Value2, Value3) and plot the results."
   ]
  },
  {
   "cell_type": "code",
   "execution_count": 89,
   "id": "cb6376ff",
   "metadata": {},
   "outputs": [
    {
     "data": {
      "image/png": "[encoded data removed]",
      "text/plain": [
       "<Figure size 432x288 with 1 Axes>"
      ]
     },
     "metadata": {
      "needs_background": "light"
     },
     "output_type": "display_data"
    }
   ],
   "source": [
    "weight = np.random.normal(0, 250, 50)\n",
    "plt.hist(weight, 60)\n",
    "pyplot.title('Random Normal Distribution')\n",
    "plt.show()"
   ]
  },
  {
   "cell_type": "markdown",
   "id": "510258d1",
   "metadata": {},
   "source": [
    "#### 4. Using the Random Forest Algorithm, Compare the accuracy of the Irish dataset to SMSSpamCollection\n",
    "#### 5. Change the Train Test to 80 percent training and 20 percent Test. Check the Accuracy"
   ]
  },
  {
   "cell_type": "code",
   "execution_count": 90,
   "id": "01942343",
   "metadata": {},
   "outputs": [],
   "source": [
    "from sklearn.feature_extraction.text import TfidfVectorizer\n",
    "\n",
    "tfidf = TfidfVectorizer(analyzer=clean_text)\n",
    "X_tfidf = tfidf.fit_transform(data['msg'])\n",
    "X = pd.concat([data['msg_len'], data['punctuation_%'], pd.DataFrame(X_tfidf.toarray())], axis=1)"
   ]
  },
  {
   "cell_type": "code",
   "execution_count": 91,
   "id": "5308bdc7",
   "metadata": {},
   "outputs": [],
   "source": [
    "from sklearn.ensemble import RandomForestClassifier\n",
    "from sklearn.model_selection import KFold, cross_val_score\n",
    "\n",
    "kf = KFold(n_splits=5)\n",
    "rf = RandomForestClassifier(n_jobs=-1)\n",
    "cross_val_score(rf, X, data['label'], cv=kf, n_jobs=-1)\n",
    "\n",
    "from sklearn.metrics import precision_recall_fscore_support as prfs_score\n",
    "from sklearn.model_selection import train_test_split\n",
    "from sklearn.ensemble import RandomForestClassifier\n",
    "\n",
    "X_train, X_test, y_train, y_test = train_test_split(X, data['label'], test_size=0.1)\n",
    "rf = RandomForestClassifier(n_estimators=100, max_depth=15, n_jobs=-1)\n",
    "rfmodel = rf.fit(X_train, y_train)"
   ]
  },
  {
   "cell_type": "code",
   "execution_count": 92,
   "id": "27261c3e",
   "metadata": {},
   "outputs": [
    {
     "name": "stdout",
     "output_type": "stream",
     "text": [
      "SMSSpam Collections Accuracy = 0.8835125448028673\n"
     ]
    }
   ],
   "source": [
    "y_pred = rfmodel.predict(X_test)\n",
    "accuracy = (y_pred == y_test).sum()/len(y_pred)\n",
    "print(f'SMSSpam Collections Accuracy = {accuracy}')"
   ]
  },
  {
   "cell_type": "code",
   "execution_count": 94,
   "id": "93025d01",
   "metadata": {},
   "outputs": [
    {
     "name": "stdout",
     "output_type": "stream",
     "text": [
      "IRIS Dataset Accuracy = 0.9333333333333333\n"
     ]
    }
   ],
   "source": [
    "from sklearn.model_selection import train_test_split\n",
    "from sklearn.ensemble import RandomForestClassifier\n",
    "from sklearn import datasets\n",
    "iris = datasets.load_iris()\n",
    "\n",
    "import pandas as pd\n",
    "data=pd.DataFrame({\n",
    "    'sepal length':iris.data[:,0],\n",
    "    'sepal width':iris.data[:,1],\n",
    "    'petal length':iris.data[:,2],\n",
    "    'petal width':iris.data[:,3],\n",
    "    'species':iris.target\n",
    "})\n",
    "data.head()\n",
    "\n",
    "#features\n",
    "X=data[['sepal length', 'sepal width', 'petal length', 'petal width']]  \n",
    "y=data['species']  # Labels\n",
    "\n",
    "#80% training and 20% test\n",
    "X_train, X_test, y_train, y_test = train_test_split(X, y, test_size=0.2)\n",
    "\n",
    "#Import Random Forest Model\n",
    "from sklearn.ensemble import RandomForestClassifier\n",
    "\n",
    "#Create a Gaussian Classifier\n",
    "clf=RandomForestClassifier(n_estimators=100)\n",
    "\n",
    "#Train the model using the training sets y_pred=clf.predict(X_test)\n",
    "clf.fit(X_train,y_train)\n",
    "\n",
    "y_pred=clf.predict(X_test)\n",
    "\n",
    "from sklearn import metrics\n",
    "\n",
    "iris_accuracy = metrics.accuracy_score(y_test, y_pred)\n",
    "\n",
    "print(f'IRIS Dataset Accuracy = {iris_accuracy}')"
   ]
  },
  {
   "cell_type": "markdown",
   "id": "2b429650",
   "metadata": {},
   "source": [
    "Explanation:\n",
    "Based on the comparison dataset of SMSSpamCollections and Iris, we can say that the Iris is more accurate than SMSSpamCollections."
   ]
  },
  {
   "cell_type": "code",
   "execution_count": null,
   "id": "1ae8de60",
   "metadata": {},
   "outputs": [],
   "source": []
  }
 ],
 "metadata": {
  "kernelspec": {
   "display_name": "Python 3",
   "language": "python",
   "name": "python3"
  },
  "language_info": {
   "codemirror_mode": {
    "name": "ipython",
    "version": 3
   },
   "file_extension": ".py",
   "mimetype": "text/x-python",
   "name": "python",
   "nbconvert_exporter": "python",
   "pygments_lexer": "ipython3",
   "version": "3.8.8"
  }
 },
 "nbformat": 4,
 "nbformat_minor": 5
}
